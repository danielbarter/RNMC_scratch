{
 "cells": [
  {
   "cell_type": "code",
   "execution_count": 1,
   "metadata": {},
   "outputs": [],
   "source": [
    "import sys\n",
    "import pickle\n",
    "sys.path.append('./mrnet/src')\n",
    "from mrnet.network.reaction_network import ReactionNetwork"
   ]
  },
  {
   "cell_type": "code",
   "execution_count": 2,
   "metadata": {},
   "outputs": [],
   "source": [
    "import mrnet.network\n",
    "import mrnet.core.mol_entry\n",
    "import mrnet.core.reactions\n",
    "import mrnet.core.rates\n",
    "sys.modules['pymatgen.reaction_network'] = mrnet.network\n",
    "sys.modules['pymatgen.entries.mol_entry'] = mrnet.core.mol_entry\n",
    "sys.modules['pymatgen.reaction_network.reaction'] =  mrnet.core.reactions\n",
    "sys.modules['pymatgen.reaction_network.reaction_rates'] = mrnet.core.rates"
   ]
  },
  {
   "cell_type": "code",
   "execution_count": 3,
   "metadata": {},
   "outputs": [],
   "source": [
    "with open('./network_from_paper','rb') as f:\n",
    "    network_from_paper = pickle.load(f)"
   ]
  },
  {
   "cell_type": "code",
   "execution_count": 4,
   "metadata": {},
   "outputs": [],
   "source": [
    "from RNMC import *"
   ]
  },
  {
   "cell_type": "code",
   "execution_count": 5,
   "metadata": {},
   "outputs": [
    {
     "name": "stdout",
     "output_type": "stream",
     "text": [
      "extracted index species mapping\n",
      "extracted species data\n",
      "extracted index reaction mapping\n",
      "computed reactant to reactions\n",
      "computed dependency graph\n",
      "finished serialization\n"
     ]
    }
   ],
   "source": [
    "rns = ReactionNetworkSerialization(network_from_paper, logging = True)"
   ]
  },
  {
   "cell_type": "code",
   "execution_count": 6,
   "metadata": {},
   "outputs": [],
   "source": [
    "initial_state = np.zeros(rns.number_of_species)\n",
    "Li_plus_index = rns.find_index_from_mol_graph('./Li.xyz', 1)\n",
    "EC_index = rns.find_index_from_mol_graph('./mrnet/test_files/reaction_network_files/EC.xyz',0)\n",
    "LEDC_index = rns.find_index_from_mol_graph('./mrnet/test_files/reaction_network_files/LEDC.xyz',0)\n",
    "initial_state[Li_plus_index] = 30\n",
    "initial_state[EC_index] = 30"
   ]
  }
 ],
 "metadata": {
  "kernelspec": {
   "display_name": "Python 3",
   "language": "python",
   "name": "python3"
  },
  "language_info": {
   "codemirror_mode": {
    "name": "ipython",
    "version": 3
   },
   "file_extension": ".py",
   "mimetype": "text/x-python",
   "name": "python",
   "nbconvert_exporter": "python",
   "pygments_lexer": "ipython3",
   "version": "3.8.6"
  }
 },
 "nbformat": 4,
 "nbformat_minor": 4
}
