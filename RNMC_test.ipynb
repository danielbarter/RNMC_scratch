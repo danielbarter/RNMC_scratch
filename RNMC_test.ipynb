{
 "cells": [
  {
   "cell_type": "code",
   "execution_count": 1,
   "metadata": {},
   "outputs": [],
   "source": [
    "import time\n",
    "import sys\n",
    "sys.path.append('./mrnet/src')\n",
    "\n",
    "import mrnet.network\n",
    "import mrnet.core.mol_entry\n",
    "import mrnet.core.reactions\n",
    "import mrnet.core.rates\n",
    "sys.modules['pymatgen.reaction_network'] = mrnet.network\n",
    "sys.modules['pymatgen.entries.mol_entry'] = mrnet.core.mol_entry\n",
    "sys.modules['pymatgen.reaction_network.reaction'] =  mrnet.core.reactions\n",
    "sys.modules['pymatgen.reaction_network.reaction_rates'] = mrnet.core.rates"
   ]
  },
  {
   "cell_type": "code",
   "execution_count": 2,
   "metadata": {},
   "outputs": [],
   "source": [
    "import pickle\n",
    "# currently, these will only load using commit 222ad71 of mrnet\n",
    "ledc_no_hop_file = \"./-2.15V_ledc_lemc_network_pickle_wo_hop_1123\"\n",
    "\n",
    "\n",
    "with open(ledc_no_hop_file, 'rb') as f:\n",
    "    ledc_no_hop_reaction_network = pickle.load(f)"
   ]
  },
  {
   "cell_type": "code",
   "execution_count": 3,
   "metadata": {},
   "outputs": [],
   "source": [
    "from RNMC import *"
   ]
  },
  {
   "cell_type": "code",
   "execution_count": 4,
   "metadata": {},
   "outputs": [],
   "source": [
    "ledc_rns = ReactionNetworkSerialization(ledc_no_hop_reaction_network)"
   ]
  },
  {
   "cell_type": "code",
   "execution_count": 5,
   "metadata": {},
   "outputs": [],
   "source": [
    "ledc_initial_state = np.zeros(ledc_rns.number_of_species)\n",
    "Li_plus_index = ledc_rns.find_index_from_mol_graph('./Li.xyz', 1)\n",
    "EC_index = ledc_rns.find_index_from_mol_graph('./mrnet/test_files/reaction_network_files/EC.xyz',0)\n",
    "LEDC_index = ledc_rns.find_index_from_mol_graph('./mrnet/test_files/reaction_network_files/LEDC.xyz',0)\n",
    "ledc_initial_state[Li_plus_index] = 30\n",
    "ledc_initial_state[EC_index] = 30"
   ]
  },
  {
   "cell_type": "code",
   "execution_count": 6,
   "metadata": {},
   "outputs": [
    {
     "name": "stdout",
     "output_type": "stream",
     "text": [
      "143 occurrences:\n",
      "EC + Li_plus -> LiEC_plus_bi                      -0.5731184586145162\n",
      "LiEC_plus_bi -> LiEC_bi                           -0.01966738607516172\n",
      "LiEC_bi -> LiEC_RO1                               -1.2074918081634678\n",
      "LiEC_RO1 -> LiEC_minus_RO1                        -0.7467395352065069\n",
      "EC + Li_plus -> LiEC_plus_bi                      -0.5731184586145162\n",
      "LiEC_minus_RO1 -> C2H4 + LiCO3_minus              -1.6367992134601081\n",
      "LiCO3_minus + LiEC_plus_bi -> LEDC                -1.5200711618599598\n",
      "\n",
      "121 occurrences:\n",
      "EC + Li_plus -> LiEC_plus_bi                      -0.5731184586145162\n",
      "LiEC_plus_bi -> LiEC_bi                           -0.01966738607516172\n",
      "LiEC_bi -> LiEC_RO2                               -1.0850033295464527\n",
      "LiEC_RO2 -> LiEC_minus_RO2                        -0.7617288706602268\n",
      "EC + Li_plus -> LiEC_plus_bi                      -0.5731184586145162\n",
      "LiEC_minus_RO2 -> LiCO3_minus + C2H4              -1.7442983566234034\n",
      "LiCO3_minus + LiEC_plus_bi -> LEDC                -1.5200711618599598\n",
      "\n",
      "20 occurrences:\n",
      "EC + Li_plus -> LiEC_plus_bi                      -0.5731184586145162\n",
      "EC + Li_plus -> LiEC_plus_bi                      -0.5731184586145162\n",
      "LiEC_plus_bi -> LiEC_bi                           -0.01966738607516172\n",
      "LiEC_plus_bi -> LiEC_bi                           -0.01966738607516172\n",
      "LiEC_bi -> LiEC_RO2                               -1.0850033295464527\n",
      "LiEC_bi -> LiEC_RO1                               -1.2074918081634678\n",
      "LiEC_RO1 + LiEC_RO2 -> LEDC + C2H4                -2.7989391949049605\n",
      "\n",
      "13 occurrences:\n",
      "EC + Li_plus -> LiEC_plus_bi                      -0.5731184586145162\n",
      "EC + Li_plus -> LiEC_plus_bi                      -0.5731184586145162\n",
      "LiEC_plus_bi -> LiEC_bi                           -0.01966738607516172\n",
      "LiEC_bi -> LiEC_RO1                               -1.2074918081634678\n",
      "LiEC_plus_bi -> LiEC_bi                           -0.01966738607516172\n",
      "LiEC_bi -> LiEC_RO1                               -1.2074918081634678\n",
      "LiEC_RO1 + LiEC_RO1 -> LEDC + C2H4                -2.6764507162879454\n",
      "\n",
      "2 occurrences:\n",
      "EC + Li_plus -> LiEC_plus_bi                      -0.5731184586145162\n",
      "LiEC_plus_bi -> LiEC_bi                           -0.01966738607516172\n",
      "LiEC_bi -> LiEC_RO2                               -1.0850033295464527\n",
      "LiEC_RO2 -> LiEC_minus_RO2                        -0.7617288706602268\n",
      "LiEC_minus_RO2 -> LiCO3_minus + C2H4              -1.7442983566234034\n",
      "LiCO3_minus + EC -> LEDC_minus_Li                 -0.21125899548496818\n",
      "LEDC_minus_Li + Li_plus -> LEDC                   -1.8819306249895078\n",
      "\n",
      "1 occurrences:\n",
      "EC + Li_plus -> LiEC_plus_bi                      -0.5731184586145162\n",
      "LiEC_plus_bi -> LiEC_bi                           -0.01966738607516172\n",
      "LiEC_bi -> LiEC_RO1                               -1.2074918081634678\n",
      "LiEC_RO1 -> LiEC_minus_RO1                        -0.7467395352065069\n",
      "LiEC_minus_RO1 -> C2H4 + LiCO3_minus              -1.6367992134601081\n",
      "LiCO3_minus + EC -> LEDC_minus_Li                 -0.21125899548496818\n",
      "LEDC_minus_Li + Li_plus -> LEDC                   -1.8819306249895078\n",
      "\n"
     ]
    }
   ],
   "source": [
    "# this should produce the sequence 143, 121, 20, 13, 2, 1\n",
    "plasma_file = '/tmp/plasma_RNMC'\n",
    "plasma_process = start_plasma_server(1,plasma_file)\n",
    "ledc_mcb = MonteCarloBundler(8,ledc_rns,ledc_initial_state,5,range(1000),plasma_file)\n",
    "ledc_mcb.pp_pathways(LEDC_index)\n",
    "plasma_process.terminate()"
   ]
  }
 ],
 "metadata": {
  "kernelspec": {
   "display_name": "Python 3",
   "language": "python",
   "name": "python3"
  },
  "language_info": {
   "codemirror_mode": {
    "name": "ipython",
    "version": 3
   },
   "file_extension": ".py",
   "mimetype": "text/x-python",
   "name": "python",
   "nbconvert_exporter": "python",
   "pygments_lexer": "ipython3",
   "version": "3.8.6"
  }
 },
 "nbformat": 4,
 "nbformat_minor": 4
}
